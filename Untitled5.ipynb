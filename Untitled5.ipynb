{
 "cells": [
  {
   "cell_type": "code",
   "execution_count": 1,
   "id": "b78e6e30-4b90-4571-8c99-bfc6faf8fd24",
   "metadata": {},
   "outputs": [
    {
     "name": "stdout",
     "output_type": "stream",
     "text": [
      "Stack arrays along a new axis:\n",
      "[[10 20 30]\n",
      " [40 50 60]]\n",
      "Horizontal stack:\n",
      "[10 20 30 40 50 60]\n",
      "Vertical stack:\n",
      "[[10 20 30]\n",
      " [40 50 60]]\n",
      "Depth stack:\n",
      "[[[10 40]\n",
      "  [20 50]\n",
      "  [30 60]]]\n"
     ]
    }
   ],
   "source": [
    "import numpy as np\n",
    "array1=np.array([10,20,30])\n",
    "array2=np.array([40,50,60])\n",
    "stacked=np.stack((array1,array2),axis=0)\n",
    "print(\"Stack arrays along a new axis:\")\n",
    "print(stacked)\n",
    "hstacked=np.hstack((array1,array2))\n",
    "print(\"Horizontal stack:\")\n",
    "print(hstacked)\n",
    "vstacked=np.vstack((array1,array2))\n",
    "print(\"Vertical stack:\")\n",
    "print(vstacked)\n",
    "dstacked=np.dstack((array1,array2))\n",
    "print(\"Depth stack:\")\n",
    "print(dstacked)"
   ]
  },
  {
   "cell_type": "code",
   "execution_count": 2,
   "id": "f47cd1d0-b65e-4477-977e-341997d3801c",
   "metadata": {},
   "outputs": [
    {
     "name": "stdout",
     "output_type": "stream",
     "text": [
      "Concatenate along axis 0(columns):\n",
      "[[10 20]\n",
      " [30 40]\n",
      " [50 60]\n",
      " [70 80]]\n",
      "Concatenate along axis 1(rows):\n",
      "[[10 20 50 60]\n",
      " [30 40 70 80]]\n"
     ]
    }
   ],
   "source": [
    "import numpy as np\n",
    "array1=np.array([[10,20],[30,40]])\n",
    "array2=np.array([[50,60],[70,80]])\n",
    "concateaxis0=np.concatenate((array1,array2),axis=0)\n",
    "print(\"Concatenate along axis 0(columns):\")\n",
    "print(concateaxis0)\n",
    "concateaxis1=np.concatenate((array1,array2),axis=1)\n",
    "print(\"Concatenate along axis 1(rows):\")\n",
    "print(concateaxis1)"
   ]
  },
  {
   "cell_type": "code",
   "execution_count": 4,
   "id": "f9e8fdec-b874-4679-a9bd-6201d83e9b97",
   "metadata": {},
   "outputs": [
    {
     "name": "stdout",
     "output_type": "stream",
     "text": [
      "Broadcasting addition:\n",
      "[[[ 50  60  70]\n",
      "  [ 60  70  80]\n",
      "  [ 70  80  90]\n",
      "  [ 80  90 100]]]\n"
     ]
    }
   ],
   "source": [
    "import numpy as np\n",
    "array1=np.array([10,20,30])\n",
    "array2=np.array([[[40],[50],[60],[70]]])\n",
    "result=array1+array2\n",
    "print(\"Broadcasting addition:\")\n",
    "print(result)"
   ]
  },
  {
   "cell_type": "code",
   "execution_count": null,
   "id": "28f61494-8bfa-4614-9e2a-fadbb6cb4567",
   "metadata": {},
   "outputs": [],
   "source": []
  },
  {
   "cell_type": "code",
   "execution_count": null,
   "id": "8ac8d85c-990d-4b11-a2f0-8464068ce73f",
   "metadata": {},
   "outputs": [],
   "source": []
  }
 ],
 "metadata": {
  "kernelspec": {
   "display_name": "Python 3 (ipykernel)",
   "language": "python",
   "name": "python3"
  },
  "language_info": {
   "codemirror_mode": {
    "name": "ipython",
    "version": 3
   },
   "file_extension": ".py",
   "mimetype": "text/x-python",
   "name": "python",
   "nbconvert_exporter": "python",
   "pygments_lexer": "ipython3",
   "version": "3.12.7"
  }
 },
 "nbformat": 4,
 "nbformat_minor": 5
}
